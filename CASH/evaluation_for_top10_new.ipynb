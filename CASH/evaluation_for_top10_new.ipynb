{
 "cells": [
  {
   "cell_type": "code",
   "execution_count": 1,
   "id": "c784b1b2-fa82-4f36-9771-4ea7dc1dbe41",
   "metadata": {},
   "outputs": [
    {
     "name": "stderr",
     "output_type": "stream",
     "text": [
      "/root/miniconda3/envs/test/lib/python3.7/site-packages/tqdm/auto.py:22: TqdmWarning: IProgress not found. Please update jupyter and ipywidgets. See https://ipywidgets.readthedocs.io/en/stable/user_install.html\n",
      "  from .autonotebook import tqdm as notebook_tqdm\n",
      "2024-10-26 17:18:34.333497: I tensorflow/core/platform/cpu_feature_guard.cc:193] This TensorFlow binary is optimized with oneAPI Deep Neural Network Library (oneDNN) to use the following CPU instructions in performance-critical operations:  AVX2 AVX512F AVX512_VNNI FMA\n",
      "To enable them in other operations, rebuild TensorFlow with the appropriate compiler flags.\n",
      "2024-10-26 17:18:34.664955: I tensorflow/core/util/util.cc:169] oneDNN custom operations are on. You may see slightly different numerical results due to floating-point round-off errors from different computation orders. To turn them off, set the environment variable `TF_ENABLE_ONEDNN_OPTS=0`.\n",
      "2024-10-26 17:18:34.753787: E tensorflow/stream_executor/cuda/cuda_blas.cc:2981] Unable to register cuBLAS factory: Attempting to register factory for plugin cuBLAS when one has already been registered\n",
      "2024-10-26 17:18:36.372788: W tensorflow/stream_executor/platform/default/dso_loader.cc:64] Could not load dynamic library 'libnvinfer.so.7'; dlerror: libnvinfer.so.7: cannot open shared object file: No such file or directory; LD_LIBRARY_PATH: /usr/local/nvidia/lib:/usr/local/nvidia/lib64\n",
      "2024-10-26 17:18:36.372933: W tensorflow/stream_executor/platform/default/dso_loader.cc:64] Could not load dynamic library 'libnvinfer_plugin.so.7'; dlerror: libnvinfer_plugin.so.7: cannot open shared object file: No such file or directory; LD_LIBRARY_PATH: /usr/local/nvidia/lib:/usr/local/nvidia/lib64\n",
      "2024-10-26 17:18:36.372940: W tensorflow/compiler/tf2tensorrt/utils/py_utils.cc:38] TF-TRT Warning: Cannot dlopen some TensorRT libraries. If you would like to use Nvidia GPU with TensorRT, please make sure the missing libraries mentioned above are installed properly.\n",
      "WARNING:root:\n",
      "DeepCTR-PyTorch version 0.2.9 detected. Your version is 0.2.7.\n",
      "Use `pip install -U deepctr-torch` to upgrade.Changelog: https://github.com/shenweichen/DeepCTR-Torch/releases/tag/v0.2.9\n"
     ]
    }
   ],
   "source": [
    "from final_evaluation_new import FinalCTREvaluation"
   ]
  },
  {
   "cell_type": "code",
   "execution_count": 4,
   "id": "7ac81e5f-f16b-43b4-83a8-a7a3f44d5fd9",
   "metadata": {},
   "outputs": [],
   "source": [
    "def final_evaluation(solution, device=0, full_data_name=\"MovieLens10m\"):\n",
    "     obj = FinalCTREvaluation()\n",
    "     model_name, hp_dict, auc, logloss = solution\n",
    "     if device == -1:\n",
    "          device_name = \"cpu\"\n",
    "     else:\n",
    "          device_name = \"cuda:0\"\n",
    "     final_auc, final_logloss, file_position = obj.evaluate_single_model(full_data_name=full_data_name, model_name=model_name, \\\n",
    "                    epochs=2, device=device_name, searching_flag=False, hp_dict=hp_dict)\n",
    "     return final_auc, final_logloss, file_position"
   ]
  },
  {
   "cell_type": "code",
   "execution_count": 6,
   "id": "f20e23c1-3895-4606-ae29-ff4ce538324d",
   "metadata": {},
   "outputs": [],
   "source": [
    "top_10_models =  [\n",
    "    ['DIFM', {'att_head_num': 1, 'att_res': True, 'dnn_activation': 'relu', 'dnn_dropout': 0, 'dnn_hidden_units': [400, 400, 400], 'init_std': 0.0001, 'seed': 1024, 'embedding_size': 32, 'optimizer': 'adam'}, 0.97723928696, 0.19891365464], \n",
    "    ['DIN', {'att_activation': 'relu', 'att_hidden_size': [600, 600], 'att_weight_normalization': True, 'dnn_activation': 'relu', 'dnn_hidden_units': [400, 400, 400], 'init_std': 0.0001, 'seed': 1024, 'embedding_size': 32, 'optimizer': 'adam'}, 0.9753527582400001, 0.19694341863999998],\n",
    "    ['DCN', {'cross_num': 2, 'cross_parameterization': 'vector', 'dnn_activation': 'relu', 'dnn_dropout': 0, 'dnn_hidden_units': [400, 400, 400], 'init_std': 0.0001, 'seed': 1024, 'embedding_size': 32, 'optimizer': 'adam'}, 0.9753105108000001, 0.19624344495999999],\n",
    "    ['DIEN', {'alpha': 0.2, 'att_hidden_units': [600, 600], 'gru_type': 'GRU', 'init_std': 0.0001, 'seed': 1024, 'use_bn': False, 'embedding_size': 32, 'optimizer': 'adam'}, 0.97525156664, 0.19812374863999999], \n",
    "    ['DeepFM', {'dnn_activation': 'relu', 'dnn_dropout': 0, 'dnn_hidden_units': [400, 400, 400], 'init_std': 0.0001, 'seed': 1024, 'embedding_size': 32, 'optimizer': 'adam'}, 0.97514868064, 0.19879259264], \n",
    "    ['PNN', {'dnn_activation': 'relu', 'dnn_dropout': 0, 'init_std': 0.0001, 'kernel_type': 'mat', 'seed': 1024, 'use_inner': True, 'use_outter': False, 'embedding_size': 32, 'optimizer': 'adam'}, 0.9735551722400001, 0.19696700056], \n",
    "    ['DCNMix', {'cross_num': 2, 'dnn_dropout': 0, 'dnn_hidden_units': [400, 400, 400], 'init_std': 0.0001, 'low_rank': 24, 'num_experts': 3, 'seed': 1024, 'embedding_size': 32, 'optimizer': 'adam'}, 0.9722683742400001, 0.20964203344000004], \n",
    "    ['IFM', {'dnn_activation': 'relu', 'dnn_dropout': 0, 'dnn_hidden_units': [400, 400, 400], 'dnn_use_bn': False, 'init_std': 0.0001, 'l2_reg_linear': 0, 'seed': 1024, 'embedding_size': 32, 'optimizer': 'adam'}, 0.96857267824, 0.22212131816], \n",
    "    ['ONN', {'dnn_activation': 'relu', 'dnn_dropout': 0, 'dnn_hidden_units': [400, 400, 400], 'dnn_use_bn': False, 'init_std': 0.0001, 'seed': 1024, 'embedding_size': 32, 'optimizer': 'adam'}, 0.9454728784, 0.29097764136000004], \n",
    "    ['AutoInt', {'att_head_num': 1, 'att_layer_num': 1, 'att_res': True, 'dnn_activation': 'relu', 'dnn_hidden_units': [400, 400, 400], 'init_std': 0.0001, 'seed': 1024, 'embedding_size': 32, 'optimizer': 'adam'}, 0.9161441615999999, 0.36299818384]\n",
    "]"
   ]
  },
  {
   "cell_type": "code",
   "execution_count": null,
   "id": "253b5d63-cff7-4c2f-89d0-79ff9020e365",
   "metadata": {},
   "outputs": [],
   "source": [
    "for model in top_10_models:\n",
    "    final_auc, final_logloss, file_position = final_evaluation(model)"
   ]
  }
 ],
 "metadata": {
  "kernelspec": {
   "display_name": "test",
   "language": "python",
   "name": "test"
  },
  "language_info": {
   "codemirror_mode": {
    "name": "ipython",
    "version": 3
   },
   "file_extension": ".py",
   "mimetype": "text/x-python",
   "name": "python",
   "nbconvert_exporter": "python",
   "pygments_lexer": "ipython3",
   "version": "3.7.13"
  }
 },
 "nbformat": 4,
 "nbformat_minor": 5
}
